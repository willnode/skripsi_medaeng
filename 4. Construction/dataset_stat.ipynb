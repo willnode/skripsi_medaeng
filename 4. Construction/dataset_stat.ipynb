{
 "cells": [
  {
   "cell_type": "code",
   "execution_count": 3,
   "metadata": {},
   "outputs": [],
   "source": [
    "import sqlite3\n",
    "import matplotlib.pyplot as plt\n",
    "from statistics import geometric_mean, harmonic_mean, mean, median, stdev\n",
    "\n",
    "def load_dataset(path, lang):\n",
    "    con = sqlite3.connect(path)\n",
    "    con.row_factory = sqlite3.Row\n",
    "    cur = con.cursor()\n",
    "    data = []\n",
    "    cur.execute('SELECT t.id, COUNT(*) as token_length FROM tb_teks_token tt, tb_teks t  WHERE t.id = tt.teks_id AND t.lang = ? GROUP BY t.id', [lang])\n",
    "    for row in cur.fetchall():\n",
    "        data.append(row['token_length'])\n",
    "    con.close()\n",
    "    return data"
   ]
  },
  {
   "cell_type": "code",
   "execution_count": 6,
   "metadata": {},
   "outputs": [],
   "source": [
    "MAD_BASE = sorted(load_dataset('./db_parallel_corpus_base.db', 'MAD'))\n",
    "IND_BASE = sorted(load_dataset('./db_parallel_corpus_base.db', 'IND'))\n",
    "MAD_WP8K = sorted(load_dataset('./db_parallel_corpus_wp8k.db', 'MAD'))\n",
    "IND_WP8K = sorted(load_dataset('./db_parallel_corpus_wp8k.db', 'IND'))\n",
    "data_keys_base = {'MAD_BASE': MAD_BASE, 'IND_BASE': IND_BASE}\n",
    "data_keys_wp8k = {'MAD_WP8K': MAD_WP8K, 'IND_WP8K': IND_WP8K}\n",
    "data_keys = {**data_keys_base, **data_keys_wp8k}"
   ]
  },
  {
   "cell_type": "code",
   "execution_count": 7,
   "metadata": {},
   "outputs": [
    {
     "data": {
      "text/plain": [
       "<matplotlib.legend.Legend at 0x156e09192e0>"
      ]
     },
     "execution_count": 7,
     "metadata": {},
     "output_type": "execute_result"
    },
    {
     "data": {
      "image/png": "[encoded data removed]",
      "text/plain": [
       "<Figure size 432x288 with 1 Axes>"
      ]
     },
     "metadata": {
      "needs_background": "light"
     },
     "output_type": "display_data"
    }
   ],
   "source": [
    "fig = plt.figure()\n",
    "ax = plt.axes()\n",
    "\n",
    "for data in data_keys_base:\n",
    "    ax.plot(data_keys_base[data], label=data)\n",
    "ax.legend()"
   ]
  },
  {
   "cell_type": "code",
   "execution_count": 8,
   "metadata": {},
   "outputs": [
    {
     "data": {
      "text/plain": [
       "<matplotlib.legend.Legend at 0x156e09b47f0>"
      ]
     },
     "execution_count": 8,
     "metadata": {},
     "output_type": "execute_result"
    },
    {
     "data": {
      "image/png": "[encoded data removed]",
      "text/plain": [
       "<Figure size 432x288 with 1 Axes>"
      ]
     },
     "metadata": {
      "needs_background": "light"
     },
     "output_type": "display_data"
    }
   ],
   "source": [
    "fig = plt.figure()\n",
    "ax = plt.axes()\n",
    "\n",
    "for data in data_keys_wp8k:\n",
    "    ax.plot(data_keys_wp8k[data], label=data)\n",
    "ax.legend()"
   ]
  },
  {
   "cell_type": "code",
   "execution_count": 9,
   "metadata": {},
   "outputs": [
    {
     "name": "stdout",
     "output_type": "stream",
     "text": [
      "MAD_BASE\n",
      "Median:  1.0\n",
      "Mean:  1.4288395495567447\n",
      "Stdev:  1.167358367711056\n",
      "Geometric Mean:  1.2337791455522216\n",
      "Harmonic Mean:  1.145444627830943\n",
      "\n",
      "IND_BASE\n",
      "Median:  1.0\n",
      "Mean:  1.9127865186486703\n",
      "Stdev:  1.8325082827922918\n",
      "Geometric Mean:  1.4969242591758363\n",
      "Harmonic Mean:  1.299072439552622\n",
      "\n",
      "MAD_WP8K\n",
      "Median:  3.0\n",
      "Mean:  3.3738319623033304\n",
      "Stdev:  2.3392117284010046\n",
      "Geometric Mean:  2.827162784970464\n",
      "Harmonic Mean:  2.3885757621971533\n",
      "\n",
      "IND_WP8K\n",
      "Median:  2.0\n",
      "Mean:  3.2329286798179058\n",
      "Stdev:  2.8762198276904245\n",
      "Geometric Mean:  2.448635192148346\n",
      "Harmonic Mean:  1.9419061025489184\n",
      "\n"
     ]
    }
   ],
   "source": [
    "# get all median, mean, stdev, etc\n",
    "for data in data_keys:\n",
    "    print(data)\n",
    "    print('Median: ', median(data_keys[data]))\n",
    "    print('Mean: ', mean(data_keys[data]))\n",
    "    print('Stdev: ', stdev(data_keys[data]))\n",
    "    print('Geometric Mean: ', geometric_mean(data_keys[data]))\n",
    "    print('Harmonic Mean: ', harmonic_mean(data_keys[data]))\n",
    "    print('')"
   ]
  },
  {
   "cell_type": "code",
   "execution_count": 15,
   "metadata": {},
   "outputs": [],
   "source": [
    "con = sqlite3.connect('./db_parallel_corpus_base.db')\n",
    "con.row_factory = sqlite3.Row\n",
    "cur = con.cursor()\n",
    "cur.execute('SELECT \"text\", \"index\" from tb_teks WHERE lang = ? ORDER BY \"index\"', ['MAD'])\n",
    "madtxt = cur.fetchall()\n",
    "cur.execute('SELECT \"text\", \"index\" from tb_teks WHERE lang = ? ORDER BY \"index\"', ['IND'])\n",
    "indtxt = cur.fetchall()\n",
    "con.close()\n",
    "with open('../7. Testing/kamus.txt', 'w', encoding='utf8') as f:\n",
    "    for mad, ind in zip(madtxt, indtxt):\n",
    "        f.write(mad['text'] + '\\n')\n",
    "        f.write(ind['text'] + '\\n')"
   ]
  }
 ],
 "metadata": {
  "kernelspec": {
   "display_name": "Python 3.9.5 64-bit",
   "language": "python",
   "name": "python3"
  },
  "language_info": {
   "codemirror_mode": {
    "name": "ipython",
    "version": 3
   },
   "file_extension": ".py",
   "mimetype": "text/x-python",
   "name": "python",
   "nbconvert_exporter": "python",
   "pygments_lexer": "ipython3",
   "version": "3.9.5"
  },
  "orig_nbformat": 4,
  "vscode": {
   "interpreter": {
    "hash": "df3e798977ef176ae40ba434fe314604276c5edc4011c2bf07ae697b2eaa45af"
   }
  }
 },
 "nbformat": 4,
 "nbformat_minor": 2
}
