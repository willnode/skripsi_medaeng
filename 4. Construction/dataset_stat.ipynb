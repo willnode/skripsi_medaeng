{
 "cells": [
  {
   "cell_type": "code",
   "execution_count": 21,
   "metadata": {},
   "outputs": [],
   "source": [
    "import sqlite3\n",
    "import matplotlib.pyplot as plt\n",
    "from statistics import geometric_mean, harmonic_mean, mean, median, stdev\n",
    "\n",
    "def load_dataset(path, lang):\n",
    "    con = sqlite3.connect(path)\n",
    "    con.row_factory = sqlite3.Row\n",
    "    cur = con.cursor()\n",
    "    data = []\n",
    "    cur.execute('SELECT t.id, COUNT(*) as token_length FROM teks_token tt, teks t  WHERE t.id = tt.teks_id AND t.lang = ? GROUP BY t.id', [lang])\n",
    "    for row in cur.fetchall():\n",
    "        data.append(row['token_length'])\n",
    "    con.close()\n",
    "    return data"
   ]
  },
  {
   "cell_type": "code",
   "execution_count": 22,
   "metadata": {},
   "outputs": [],
   "source": [
    "MAD_BASE = sorted(load_dataset('./dataset_db.db', 'MAD'))\n",
    "IND_BASE = sorted(load_dataset('./dataset_db.db', 'IND'))\n",
    "MAD_WP8K = sorted(load_dataset('./dataset_wordpiece_db.db', 'MAD'))\n",
    "IND_WP8K = sorted(load_dataset('./dataset_wordpiece_db.db', 'IND'))\n",
    "data_keys_base = {'MAD_BASE': MAD_BASE, 'IND_BASE': IND_BASE}\n",
    "data_keys_wp8k = {'MAD_WP8K': MAD_WP8K, 'IND_WP8K': IND_WP8K}\n",
    "data_keys = {**data_keys_base, **data_keys_wp8k}"
   ]
  },
  {
   "cell_type": "code",
   "execution_count": 23,
   "metadata": {},
   "outputs": [
    {
     "data": {
      "text/plain": [
       "<matplotlib.legend.Legend at 0x10fedd910>"
      ]
     },
     "execution_count": 23,
     "metadata": {},
     "output_type": "execute_result"
    },
    {
     "data": {
      "image/png": "[encoded data removed]",
      "text/plain": [
       "<Figure size 432x288 with 1 Axes>"
      ]
     },
     "metadata": {
      "needs_background": "light"
     },
     "output_type": "display_data"
    }
   ],
   "source": [
    "fig = plt.figure()\n",
    "ax = plt.axes()\n",
    "\n",
    "for data in data_keys_base:\n",
    "    ax.plot(data_keys_base[data], label=data)\n",
    "ax.legend()"
   ]
  },
  {
   "cell_type": "code",
   "execution_count": 24,
   "metadata": {},
   "outputs": [
    {
     "data": {
      "text/plain": [
       "<matplotlib.legend.Legend at 0x11ccd97f0>"
      ]
     },
     "execution_count": 24,
     "metadata": {},
     "output_type": "execute_result"
    },
    {
     "data": {
      "image/png": "[encoded data removed]",
      "text/plain": [
       "<Figure size 432x288 with 1 Axes>"
      ]
     },
     "metadata": {
      "needs_background": "light"
     },
     "output_type": "display_data"
    }
   ],
   "source": [
    "fig = plt.figure()\n",
    "ax = plt.axes()\n",
    "\n",
    "for data in data_keys_wp8k:\n",
    "    ax.plot(data_keys_wp8k[data], label=data)\n",
    "ax.legend()"
   ]
  },
  {
   "cell_type": "code",
   "execution_count": 25,
   "metadata": {},
   "outputs": [
    {
     "name": "stdout",
     "output_type": "stream",
     "text": [
      "MAD_BASE\n",
      "Median:  1\n",
      "Mean:  1.4537726225110514\n",
      "Stdev:  1.212703091140087\n",
      "Geometric Mean:  1.2463755997278636\n",
      "Harmonic Mean:  1.152531120765049\n",
      "\n",
      "IND_BASE\n",
      "Median:  1\n",
      "Mean:  1.9283171581668976\n",
      "Stdev:  1.8358789651669059\n",
      "Geometric Mean:  1.5078099827296265\n",
      "Harmonic Mean:  1.3063170870543168\n",
      "\n",
      "MAD_WP8K\n",
      "Median:  3\n",
      "Mean:  3.101560433747686\n",
      "Stdev:  2.355737183623737\n",
      "Geometric Mean:  2.525711122459933\n",
      "Harmonic Mean:  2.0987539720624926\n",
      "\n",
      "IND_WP8K\n",
      "Median:  2\n",
      "Mean:  2.6613707048375614\n",
      "Stdev:  2.450077177979614\n",
      "Geometric Mean:  2.020695509867453\n",
      "Harmonic Mean:  1.6494786699091197\n",
      "\n"
     ]
    }
   ],
   "source": [
    "# get all median, mean, stdev, etc\n",
    "for data in data_keys:\n",
    "    print(data)\n",
    "    print('Median: ', median(data_keys[data]))\n",
    "    print('Mean: ', mean(data_keys[data]))\n",
    "    print('Stdev: ', stdev(data_keys[data]))\n",
    "    print('Geometric Mean: ', geometric_mean(data_keys[data]))\n",
    "    print('Harmonic Mean: ', harmonic_mean(data_keys[data]))\n",
    "    print('')"
   ]
  }
 ],
 "metadata": {
  "kernelspec": {
   "display_name": "Python 3.9.5 64-bit",
   "language": "python",
   "name": "python3"
  },
  "language_info": {
   "codemirror_mode": {
    "name": "ipython",
    "version": 3
   },
   "file_extension": ".py",
   "mimetype": "text/x-python",
   "name": "python",
   "nbconvert_exporter": "python",
   "pygments_lexer": "ipython3",
   "version": "3.9.5"
  },
  "orig_nbformat": 4,
  "vscode": {
   "interpreter": {
    "hash": "df3e798977ef176ae40ba434fe314604276c5edc4011c2bf07ae697b2eaa45af"
   }
  }
 },
 "nbformat": 4,
 "nbformat_minor": 2
}
